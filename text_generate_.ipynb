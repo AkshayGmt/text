{
  "nbformat": 4,
  "nbformat_minor": 0,
  "metadata": {
    "colab": {
      "provenance": []
    },
    "kernelspec": {
      "name": "python3",
      "display_name": "Python 3"
    },
    "language_info": {
      "name": "python"
    }
  },
  "cells": [
    {
      "cell_type": "code",
      "execution_count": 1,
      "metadata": {
        "colab": {
          "base_uri": "https://localhost:8080/",
          "height": 92
        },
        "id": "6NkGYp8_ebNm",
        "outputId": "8bb4c53a-e506-41bd-b4a1-f45bb4e110ef"
      },
      "outputs": [
        {
          "output_type": "display_data",
          "data": {
            "text/plain": [
              "<IPython.core.display.HTML object>"
            ],
            "text/html": [
              "\n",
              "     <input type=\"file\" id=\"files-26f29b40-f1e0-44b2-b327-4ac3194503e2\" name=\"files[]\" multiple disabled\n",
              "        style=\"border:none\" />\n",
              "     <output id=\"result-26f29b40-f1e0-44b2-b327-4ac3194503e2\">\n",
              "      Upload widget is only available when the cell has been executed in the\n",
              "      current browser session. Please rerun this cell to enable.\n",
              "      </output>\n",
              "      <script>// Copyright 2017 Google LLC\n",
              "//\n",
              "// Licensed under the Apache License, Version 2.0 (the \"License\");\n",
              "// you may not use this file except in compliance with the License.\n",
              "// You may obtain a copy of the License at\n",
              "//\n",
              "//      http://www.apache.org/licenses/LICENSE-2.0\n",
              "//\n",
              "// Unless required by applicable law or agreed to in writing, software\n",
              "// distributed under the License is distributed on an \"AS IS\" BASIS,\n",
              "// WITHOUT WARRANTIES OR CONDITIONS OF ANY KIND, either express or implied.\n",
              "// See the License for the specific language governing permissions and\n",
              "// limitations under the License.\n",
              "\n",
              "/**\n",
              " * @fileoverview Helpers for google.colab Python module.\n",
              " */\n",
              "(function(scope) {\n",
              "function span(text, styleAttributes = {}) {\n",
              "  const element = document.createElement('span');\n",
              "  element.textContent = text;\n",
              "  for (const key of Object.keys(styleAttributes)) {\n",
              "    element.style[key] = styleAttributes[key];\n",
              "  }\n",
              "  return element;\n",
              "}\n",
              "\n",
              "// Max number of bytes which will be uploaded at a time.\n",
              "const MAX_PAYLOAD_SIZE = 100 * 1024;\n",
              "\n",
              "function _uploadFiles(inputId, outputId) {\n",
              "  const steps = uploadFilesStep(inputId, outputId);\n",
              "  const outputElement = document.getElementById(outputId);\n",
              "  // Cache steps on the outputElement to make it available for the next call\n",
              "  // to uploadFilesContinue from Python.\n",
              "  outputElement.steps = steps;\n",
              "\n",
              "  return _uploadFilesContinue(outputId);\n",
              "}\n",
              "\n",
              "// This is roughly an async generator (not supported in the browser yet),\n",
              "// where there are multiple asynchronous steps and the Python side is going\n",
              "// to poll for completion of each step.\n",
              "// This uses a Promise to block the python side on completion of each step,\n",
              "// then passes the result of the previous step as the input to the next step.\n",
              "function _uploadFilesContinue(outputId) {\n",
              "  const outputElement = document.getElementById(outputId);\n",
              "  const steps = outputElement.steps;\n",
              "\n",
              "  const next = steps.next(outputElement.lastPromiseValue);\n",
              "  return Promise.resolve(next.value.promise).then((value) => {\n",
              "    // Cache the last promise value to make it available to the next\n",
              "    // step of the generator.\n",
              "    outputElement.lastPromiseValue = value;\n",
              "    return next.value.response;\n",
              "  });\n",
              "}\n",
              "\n",
              "/**\n",
              " * Generator function which is called between each async step of the upload\n",
              " * process.\n",
              " * @param {string} inputId Element ID of the input file picker element.\n",
              " * @param {string} outputId Element ID of the output display.\n",
              " * @return {!Iterable<!Object>} Iterable of next steps.\n",
              " */\n",
              "function* uploadFilesStep(inputId, outputId) {\n",
              "  const inputElement = document.getElementById(inputId);\n",
              "  inputElement.disabled = false;\n",
              "\n",
              "  const outputElement = document.getElementById(outputId);\n",
              "  outputElement.innerHTML = '';\n",
              "\n",
              "  const pickedPromise = new Promise((resolve) => {\n",
              "    inputElement.addEventListener('change', (e) => {\n",
              "      resolve(e.target.files);\n",
              "    });\n",
              "  });\n",
              "\n",
              "  const cancel = document.createElement('button');\n",
              "  inputElement.parentElement.appendChild(cancel);\n",
              "  cancel.textContent = 'Cancel upload';\n",
              "  const cancelPromise = new Promise((resolve) => {\n",
              "    cancel.onclick = () => {\n",
              "      resolve(null);\n",
              "    };\n",
              "  });\n",
              "\n",
              "  // Wait for the user to pick the files.\n",
              "  const files = yield {\n",
              "    promise: Promise.race([pickedPromise, cancelPromise]),\n",
              "    response: {\n",
              "      action: 'starting',\n",
              "    }\n",
              "  };\n",
              "\n",
              "  cancel.remove();\n",
              "\n",
              "  // Disable the input element since further picks are not allowed.\n",
              "  inputElement.disabled = true;\n",
              "\n",
              "  if (!files) {\n",
              "    return {\n",
              "      response: {\n",
              "        action: 'complete',\n",
              "      }\n",
              "    };\n",
              "  }\n",
              "\n",
              "  for (const file of files) {\n",
              "    const li = document.createElement('li');\n",
              "    li.append(span(file.name, {fontWeight: 'bold'}));\n",
              "    li.append(span(\n",
              "        `(${file.type || 'n/a'}) - ${file.size} bytes, ` +\n",
              "        `last modified: ${\n",
              "            file.lastModifiedDate ? file.lastModifiedDate.toLocaleDateString() :\n",
              "                                    'n/a'} - `));\n",
              "    const percent = span('0% done');\n",
              "    li.appendChild(percent);\n",
              "\n",
              "    outputElement.appendChild(li);\n",
              "\n",
              "    const fileDataPromise = new Promise((resolve) => {\n",
              "      const reader = new FileReader();\n",
              "      reader.onload = (e) => {\n",
              "        resolve(e.target.result);\n",
              "      };\n",
              "      reader.readAsArrayBuffer(file);\n",
              "    });\n",
              "    // Wait for the data to be ready.\n",
              "    let fileData = yield {\n",
              "      promise: fileDataPromise,\n",
              "      response: {\n",
              "        action: 'continue',\n",
              "      }\n",
              "    };\n",
              "\n",
              "    // Use a chunked sending to avoid message size limits. See b/62115660.\n",
              "    let position = 0;\n",
              "    do {\n",
              "      const length = Math.min(fileData.byteLength - position, MAX_PAYLOAD_SIZE);\n",
              "      const chunk = new Uint8Array(fileData, position, length);\n",
              "      position += length;\n",
              "\n",
              "      const base64 = btoa(String.fromCharCode.apply(null, chunk));\n",
              "      yield {\n",
              "        response: {\n",
              "          action: 'append',\n",
              "          file: file.name,\n",
              "          data: base64,\n",
              "        },\n",
              "      };\n",
              "\n",
              "      let percentDone = fileData.byteLength === 0 ?\n",
              "          100 :\n",
              "          Math.round((position / fileData.byteLength) * 100);\n",
              "      percent.textContent = `${percentDone}% done`;\n",
              "\n",
              "    } while (position < fileData.byteLength);\n",
              "  }\n",
              "\n",
              "  // All done.\n",
              "  yield {\n",
              "    response: {\n",
              "      action: 'complete',\n",
              "    }\n",
              "  };\n",
              "}\n",
              "\n",
              "scope.google = scope.google || {};\n",
              "scope.google.colab = scope.google.colab || {};\n",
              "scope.google.colab._files = {\n",
              "  _uploadFiles,\n",
              "  _uploadFilesContinue,\n",
              "};\n",
              "})(self);\n",
              "</script> "
            ]
          },
          "metadata": {}
        },
        {
          "output_type": "stream",
          "name": "stdout",
          "text": [
            "Saving nietzsche.txt to nietzsche.txt\n",
            "User uploaded file \"nietzsche.txt\" with length 600901 bytes\n"
          ]
        }
      ],
      "source": [
        "# prompt: file upload\n",
        "\n",
        "from google.colab import files\n",
        "uploaded = files.upload()\n",
        "for fn in uploaded.keys():\n",
        "  print('User uploaded file \"{name}\" with length {length} bytes'.format(\n",
        "      name=fn, length=len(uploaded[fn])))\n",
        "#  print(uploaded[fn]) # To see the file contents as bytes\n",
        "#  print(uploaded[fn].decode(\"utf-8\")) # To see the file contents as string, use if the file is a text file\n",
        "\n",
        "\n"
      ]
    },
    {
      "cell_type": "code",
      "source": [
        "import keras\n",
        "from keras import layers\n",
        "\n",
        "import numpy as np\n",
        "import random\n",
        "import io\n",
        "\n",
        "\"\"\"\n",
        "## Prepare the data\n",
        "\"\"\"\n",
        "\n",
        "\n",
        "path = keras.utils.get_file(\n",
        "    \"nietzsche.txt\",\n",
        "    origin=\"https://s3.amazonaws.com/text-datasets/nietzsche.txt\",\n",
        ")"
      ],
      "metadata": {
        "colab": {
          "base_uri": "https://localhost:8080/"
        },
        "id": "N0f6KjmIesgN",
        "outputId": "612052ed-addf-4494-824d-a8890cab6786"
      },
      "execution_count": 3,
      "outputs": [
        {
          "output_type": "stream",
          "name": "stdout",
          "text": [
            "Downloading data from https://s3.amazonaws.com/text-datasets/nietzsche.txt\n",
            "\u001b[1m600901/600901\u001b[0m \u001b[32m━━━━━━━━━━━━━━━━━━━━\u001b[0m\u001b[37m\u001b[0m \u001b[1m0s\u001b[0m 0us/step\n"
          ]
        }
      ]
    },
    {
      "cell_type": "code",
      "source": [
        "with io.open(path, encoding=\"utf-8\") as f:\n",
        "    text = f.read().lower()\n",
        "text = text.replace(\"\\n\", \" \")  # We remove newlines chars for nicer display\n",
        "print(\"Corpus length:\", len(text))\n",
        "\n",
        "chars = sorted(list(set(text)))\n",
        "print(\"Total chars:\", len(chars))\n",
        "char_indices = dict((c, i) for i, c in enumerate(chars))\n",
        "indices_char = dict((i, c) for i, c in enumerate(chars))\n"
      ],
      "metadata": {
        "colab": {
          "base_uri": "https://localhost:8080/"
        },
        "id": "1V2v6aVOe-ei",
        "outputId": "d0c2c09f-73fe-4e69-9c1a-afb4b39d377b"
      },
      "execution_count": 4,
      "outputs": [
        {
          "output_type": "stream",
          "name": "stdout",
          "text": [
            "Corpus length: 600893\n",
            "Total chars: 56\n"
          ]
        }
      ]
    },
    {
      "cell_type": "code",
      "source": [
        "maxlen = 40\n",
        "step = 3\n",
        "sentences = []\n",
        "next_chars = []\n",
        "for i in range(0, len(text) - maxlen, step):\n",
        "    sentences.append(text[i : i + maxlen])\n",
        "    next_chars.append(text[i + maxlen])\n",
        "print(\"Number of sequences:\", len(sentences))\n",
        "\n",
        "x = np.zeros((len(sentences), maxlen, len(chars)), dtype=\"bool\")\n",
        "y = np.zeros((len(sentences), len(chars)), dtype=\"bool\")\n",
        "for i, sentence in enumerate(sentences):\n",
        "    for t, char in enumerate(sentence):\n",
        "        x[i, t, char_indices[char]] = 1\n",
        "    y[i, char_indices[next_chars[i]]] = 1\n",
        "\n"
      ],
      "metadata": {
        "colab": {
          "base_uri": "https://localhost:8080/"
        },
        "id": "CwsXt62FfGW2",
        "outputId": "bd103725-c830-4734-e7b6-115cd074c467"
      },
      "execution_count": 5,
      "outputs": [
        {
          "output_type": "stream",
          "name": "stdout",
          "text": [
            "Number of sequences: 200285\n"
          ]
        }
      ]
    },
    {
      "cell_type": "code",
      "source": [
        "\n",
        "model = keras.Sequential(\n",
        "    [\n",
        "        keras.Input(shape=(maxlen, len(chars))),\n",
        "        layers.LSTM(128),\n",
        "        layers.Dense(len(chars), activation=\"softmax\"),\n",
        "    ]\n",
        ")\n",
        "optimizer = keras.optimizers.RMSprop(learning_rate=0.01)\n",
        "model.compile(loss=\"categorical_crossentropy\", optimizer=optimizer)\n",
        "\n",
        "\"\"\"\n",
        "## Prepare the text sampling function\n",
        "\"\"\"\n"
      ],
      "metadata": {
        "colab": {
          "base_uri": "https://localhost:8080/",
          "height": 36
        },
        "id": "5lH-tpdlfRYe",
        "outputId": "58700bcb-6302-474e-938d-7bc1b36ef0cc"
      },
      "execution_count": 6,
      "outputs": [
        {
          "output_type": "execute_result",
          "data": {
            "text/plain": [
              "'\\n## Prepare the text sampling function\\n'"
            ],
            "application/vnd.google.colaboratory.intrinsic+json": {
              "type": "string"
            }
          },
          "metadata": {},
          "execution_count": 6
        }
      ]
    },
    {
      "cell_type": "code",
      "source": [
        "\n",
        "def sample(preds, temperature=1.0):\n",
        "    # helper function to sample an index from a probability array\n",
        "    preds = np.asarray(preds).astype(\"float64\")\n",
        "    preds = np.log(preds) / temperature\n",
        "    exp_preds = np.exp(preds)\n",
        "    preds = exp_preds / np.sum(exp_preds)\n",
        "    probas = np.random.multinomial(1, preds, 1)\n",
        "    return np.argmax(probas)\n",
        "\n",
        "\n",
        "\"\"\"\n",
        "## Train the model\n",
        "\"\"\"\n",
        "\n",
        "epochs = 40\n",
        "batch_size = 128\n",
        "\n"
      ],
      "metadata": {
        "id": "0KdyM5eifiT8"
      },
      "execution_count": 7,
      "outputs": []
    },
    {
      "cell_type": "code",
      "source": [
        "\n",
        "for epoch in range(epochs):\n",
        "    model.fit(x, y, batch_size=batch_size, epochs=1)\n",
        "    print()\n",
        "    print(\"Generating text after epoch: %d\" % epoch)\n",
        "\n",
        "    start_index = random.randint(0, len(text) - maxlen - 1)\n",
        "    for diversity in [0.2, 0.5, 1.0, 1.2]:\n",
        "        print(\"...Diversity:\", diversity)\n",
        "\n",
        "        generated = \"\"\n",
        "        sentence = text[start_index : start_index + maxlen]\n",
        "        print('...Generating with seed: \"' + sentence + '\"')\n",
        "\n",
        "        for i in range(400):\n",
        "            x_pred = np.zeros((1, maxlen, len(chars)))\n",
        "            for t, char in enumerate(sentence):\n",
        "                x_pred[0, t, char_indices[char]] = 1.0\n",
        "            preds = model.predict(x_pred, verbose=0)[0]\n",
        "            next_index = sample(preds, diversity)\n",
        "            next_char = indices_char[next_index]\n",
        "            sentence = sentence[1:] + next_char\n",
        "            generated += next_char\n",
        "\n",
        "        print(\"...Generated: \", generated)\n",
        "        print(\"-\")"
      ],
      "metadata": {
        "colab": {
          "base_uri": "https://localhost:8080/"
        },
        "id": "ji7P1PDBfoiD",
        "outputId": "58116940-f57d-4823-8328-36d150c0509e"
      },
      "execution_count": null,
      "outputs": [
        {
          "output_type": "stream",
          "name": "stdout",
          "text": [
            "\u001b[1m1565/1565\u001b[0m \u001b[32m━━━━━━━━━━━━━━━━━━━━\u001b[0m\u001b[37m\u001b[0m \u001b[1m190s\u001b[0m 120ms/step - loss: 2.2693\n",
            "\n",
            "Generating text after epoch: 0\n",
            "...Diversity: 0.2\n",
            "...Generating with seed: \"omething that will be hidden from no aug\"\n",
            "...Generated:  h the self-and indelf the self-and so the self-and and so the sense of the self-and so the self-and and the some and and the such as a prease of extain of the self and indelf and as a self-and and the the self-which the self-which the self-can and some the self-and and indelf is the self-and intally so the more and is the self-and and the self-conself--which as a sersions of the self-and and in th\n",
            "-\n",
            "...Diversity: 0.5\n",
            "...Generating with seed: \"omething that will be hidden from no aug\"\n",
            "...Generated:  hing as love the free streated one of of the who not be of self-is the the nature of the self-can and which the dood the podition of the consely and sand who which which as a panse of gree men which the side who thooly and some though the consultaring whene the great has religing the deed and mode also a connect, and the soble--sense who so the staters which the ressing and nother that the posens \n",
            "-\n",
            "...Diversity: 1.0\n",
            "...Generating with seed: \"omething that will be hidden from no aug\"\n",
            "...Generated:  hosion thems lifitionaternsioning whate, which with as is a san, it is is to as the more deceituse of re light and as a way sy the weic as dees, this the.--we the extape not at it sequent, for raged, on the tire of case, ascest were,, the mode under now floudd is those or toms ow whene whate which persable manes at of other chrisgen: and same thing oney wouls power tratess-fer--blobley with! the s\n",
            "-\n",
            "...Diversity: 1.2\n",
            "...Generating with seed: \"omething that will be hidden from no aug\"\n",
            "...Generated:  ued with fiors:it cant, sreait'rations athates, and rimpe in alouds undust contrave--with whathire or ynable\" or sump os ilses our befact are or exospecto: =(al urea inntive fect has nature;--which whick-\"ble=m, of that'blough had evitive can lividg of reglanictiin noble sohis high any pro\"furic whate; which wor thhs fore and dangerem.--wrete esrlyfne.--as minit on eusony--so, asmy'ote, h9r;s,, to\n",
            "-\n",
            "\u001b[1m1565/1565\u001b[0m \u001b[32m━━━━━━━━━━━━━━━━━━━━\u001b[0m\u001b[37m\u001b[0m \u001b[1m184s\u001b[0m 117ms/step - loss: 1.6214\n",
            "\n",
            "Generating text after epoch: 1\n",
            "...Diversity: 0.2\n",
            "...Generating with seed: \"re only so far entitled to exist, religi\"\n",
            "...Generated:  ous and present and the seem who are the still the still the self the subject of the still the sense of the sacrificed and sufficion of the conduct and sacrificed and subject and still the still and who are that is the so the same same still the profficiently the seem and expresence and expresence and expression of the same still the seem of the still the still the same still and are the expressio\n",
            "-\n",
            "...Diversity: 0.5\n",
            "...Generating with seed: \"re only so far entitled to exist, religi\"\n",
            "...Generated:  ous becieation of the deceiss as a nation and exappeasic a starn precisely the proffication. it the still to from the sacress and subject as the such a serval sarily that is a religious say, has the experience of the action and the more the subject of the ageing to the case that the soul, as a carred the express of it of the same so the such a life that the satered to the say, who are the mist bel\n",
            "-\n",
            "...Diversity: 1.0\n",
            "...Generating with seed: \"re only so far entitled to exist, religi\"\n",
            "...Generated:  ous suspicious, slooky, mory ones thing full books of thingt, ethic time is their dispective form hore which rescion,   26e toulhsws every differens for the aptere too had took, subject as ban contruside, the tranghtrated maning connessior and and indeactures , freman\"\"--to is a reachion of witht, religiously rild, in the soge they has life as it leasteness of thing as my, the excerning light anri\n",
            "-\n",
            "...Diversity: 1.2\n",
            "...Generating with seed: \"re only so far entitled to exist, religi\"\n",
            "...Generated:  ousns wonlawer4, as thoil-sacr, enting crobetism: him.   20h. a welllespo: in the waoker--as youl, has unegofiality to feelen,\" rid. ever, los. but it has been ame ifitimationsuratible stupo, walah touved not allowes. whoe as a misolly it knerggate!\" ow through emmod.\"[bul rance the loug. woed, a pronpplereby--arml-u(tilly soniry been intlucation able\" wwat wherely unfine than others attriyed very\n",
            "-\n",
            "\u001b[1m1565/1565\u001b[0m \u001b[32m━━━━━━━━━━━━━━━━━━━━\u001b[0m\u001b[37m\u001b[0m \u001b[1m190s\u001b[0m 121ms/step - loss: 1.4924\n",
            "\n",
            "Generating text after epoch: 2\n",
            "...Diversity: 0.2\n",
            "...Generating with seed: \"fficulties, there is also the fact that \"\n",
            "...Generated:  is a profound the worst and the sense of the sense of the soul of the powerful and and the forces in the same to an art of the present to a profound the sense of the former and intereration of the sense of the same to the sense of the sense of the soul of the sense of the most the process and the more suffer the same to the process and so the far the soul of the sense of the power and the sense of\n",
            "-\n",
            "...Diversity: 0.5\n",
            "...Generating with seed: \"fficulties, there is also the fact that \"\n",
            "...Generated:  the most discurience of the planour senses and what the sentin for a substariness of the work maniness and long what which has been a suffers and consciented think of the applain the respited and to the believed to the man the more finer of the one of the so manine and \"for the such a prowated the species of one every fancy and nothing of the most desprisent and long the sign all the one of the wo\n",
            "-\n",
            "...Diversity: 1.0\n",
            "...Generating with seed: \"fficulties, there is also the fact that \"\n",
            "...Generated:  nobold way not the find ever the phyliceted, of ghoursey the surelinime their men .     =.                                                   spea which can in aple si\"leé is the us! should be be whose the \"expresised this so infurtation, i mean of a now philosophigation and depensive not inelalis but from the he so-sancines sure of the advantablily, but fise, ye uses to the great all their dounct \n",
            "-\n",
            "...Diversity: 1.2\n",
            "...Generating with seed: \"fficulties, there is also the fact that \"\n",
            "...Generated:  as to must, of those--alott naviust of many other can by apgle of emorise are keep effect remain tatem of nusless, ases in defegraled--he it is being had certaintied is nature;--we are bothmosed hollintmored, alis a ut be thre mo, of in the mosts: as wic--diftice will perhos relationable do, fallo much to \"schops, of by he lookerous pangray dee not ffirse, is whoreed, this origin and inconminth wh\n",
            "-\n",
            "\u001b[1m1565/1565\u001b[0m \u001b[32m━━━━━━━━━━━━━━━━━━━━\u001b[0m\u001b[37m\u001b[0m \u001b[1m188s\u001b[0m 120ms/step - loss: 1.4366\n",
            "\n",
            "Generating text after epoch: 3\n",
            "...Diversity: 0.2\n",
            "...Generating with seed: \"isconception of dreams.=--in the dream, \"\n",
            "...Generated:  the possess and the strength of the seems to the senses of the senses of the moral and the sense of the seems to the are the morality the sense of the possible the present and strength of the present and the process of the senses of the inconsideration of the senses of the senses of the sense of the strong and the process of the seems to the stall of the realist the possible them and and the still\n",
            "-\n",
            "...Diversity: 0.5\n",
            "...Generating with seed: \"isconception of dreams.=--in the dream, \"\n",
            "...Generated:  in in the sense. the still be understandarily, a pringing and be also, has been in the entiveness in a men and indigration in \"distrust and not the art the conception of be spirit and a discreated of the soul of stranges men the morality of a mankind has all the process in the gratingation and the morality, and of the moral also the among the demons and his have the sense of man who so the somethi\n",
            "-\n",
            "...Diversity: 1.0\n",
            "...Generating with seed: \"isconception of dreams.=--in the dream, \"\n",
            "...Generated:  philosophy, but we soul which cats us one conisities of which cultain than to -nasure i seefis creative subligatingly, one lenesor of miduth fors of childre? and in having new li, one once will doubt there of the end proppesed do the oresentound hive afternate our idine the intertranges revoent and conself the sees out praimst reed the forceged that the draught his philosophy afour spirit and plea\n",
            "-\n",
            "...Diversity: 1.2\n",
            "...Generating with seed: \"isconception of dreams.=--in the dream, \"\n",
            "...Generated:  have aid the e ,abmuissn perital, the more to even truth. \"nevere? yenly infrocial thun, had of which modes abso has both, that insuin\" but they hich will) nassives palmore-dumatiment; yem, origit tocusard him in thems owfocent hiy in undersnasss, wecame fomer.  tebsn--to good apphirence grance and in oroogs of a inciecious and willingly arrived  d nereations prious riding have like inner wau ye m\n",
            "-\n",
            "\u001b[1m1019/1565\u001b[0m \u001b[32m━━━━━━━━━━━━━\u001b[0m\u001b[37m━━━━━━━\u001b[0m \u001b[1m1:05\u001b[0m 120ms/step - loss: 1.3968"
          ]
        }
      ]
    }
  ]
}